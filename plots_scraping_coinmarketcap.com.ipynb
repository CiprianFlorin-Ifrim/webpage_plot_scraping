{
 "cells": [
  {
   "cell_type": "code",
   "execution_count": 92,
   "id": "0bf6bdbe",
   "metadata": {},
   "outputs": [
    {
     "name": "stdout",
     "output_type": "stream",
     "text": [
      "Defaulting to user installation because normal site-packages is not writeable\n",
      "Requirement already satisfied: selenium in c:\\users\\ciprian-florin ifrim\\appdata\\roaming\\python\\python310\\site-packages (4.10.0)\n",
      "Requirement already satisfied: trio-websocket~=0.9 in c:\\users\\ciprian-florin ifrim\\appdata\\roaming\\python\\python310\\site-packages (from selenium) (0.10.3)\n",
      "Requirement already satisfied: certifi>=2021.10.8 in c:\\programdata\\anaconda3\\lib\\site-packages (from selenium) (2023.5.7)\n",
      "Requirement already satisfied: trio~=0.17 in c:\\users\\ciprian-florin ifrim\\appdata\\roaming\\python\\python310\\site-packages (from selenium) (0.22.1)\n",
      "Requirement already satisfied: urllib3[socks]<3,>=1.26 in c:\\programdata\\anaconda3\\lib\\site-packages (from selenium) (1.26.14)\n",
      "Requirement already satisfied: exceptiongroup>=1.0.0rc9 in c:\\users\\ciprian-florin ifrim\\appdata\\roaming\\python\\python310\\site-packages (from trio~=0.17->selenium) (1.1.2)\n",
      "Requirement already satisfied: sortedcontainers in c:\\programdata\\anaconda3\\lib\\site-packages (from trio~=0.17->selenium) (2.4.0)\n",
      "Requirement already satisfied: outcome in c:\\users\\ciprian-florin ifrim\\appdata\\roaming\\python\\python310\\site-packages (from trio~=0.17->selenium) (1.2.0)\n",
      "Requirement already satisfied: sniffio in c:\\programdata\\anaconda3\\lib\\site-packages (from trio~=0.17->selenium) (1.2.0)\n",
      "Requirement already satisfied: attrs>=20.1.0 in c:\\programdata\\anaconda3\\lib\\site-packages (from trio~=0.17->selenium) (22.1.0)\n",
      "Requirement already satisfied: idna in c:\\programdata\\anaconda3\\lib\\site-packages (from trio~=0.17->selenium) (3.4)\n",
      "Requirement already satisfied: cffi>=1.14 in c:\\programdata\\anaconda3\\lib\\site-packages (from trio~=0.17->selenium) (1.15.1)\n",
      "Requirement already satisfied: wsproto>=0.14 in c:\\users\\ciprian-florin ifrim\\appdata\\roaming\\python\\python310\\site-packages (from trio-websocket~=0.9->selenium) (1.2.0)\n",
      "Requirement already satisfied: PySocks!=1.5.7,<2.0,>=1.5.6 in c:\\programdata\\anaconda3\\lib\\site-packages (from urllib3[socks]<3,>=1.26->selenium) (1.7.1)\n",
      "Requirement already satisfied: pycparser in c:\\programdata\\anaconda3\\lib\\site-packages (from cffi>=1.14->trio~=0.17->selenium) (2.21)\n",
      "Requirement already satisfied: h11<1,>=0.9.0 in c:\\users\\ciprian-florin ifrim\\appdata\\roaming\\python\\python310\\site-packages (from wsproto>=0.14->trio-websocket~=0.9->selenium) (0.14.0)\n"
     ]
    },
    {
     "name": "stderr",
     "output_type": "stream",
     "text": [
      "C:\\Users\\Ciprian-Florin Ifrim\\AppData\\Local\\Temp\\ipykernel_2144\\2865111247.py:15: DeprecationWarning: Importing display from IPython.core.display is deprecated since IPython 7.14, please import from IPython display\n",
      "  from IPython.core.display import display, HTML\n"
     ]
    },
    {
     "data": {
      "text/html": [
       "<style>.container { width:100% !important; }</style>"
      ],
      "text/plain": [
       "<IPython.core.display.HTML object>"
      ]
     },
     "metadata": {},
     "output_type": "display_data"
    }
   ],
   "source": [
    "!pip install selenium\n",
    "from selenium import webdriver\n",
    "from selenium.webdriver.common.by import By\n",
    "from selenium.webdriver.support.ui import WebDriverWait\n",
    "from selenium.webdriver.support import expected_conditions as EC\n",
    "from selenium.common.exceptions import NoSuchElementException\n",
    "from selenium.common.exceptions import TimeoutException\n",
    "from selenium.common.exceptions import InvalidArgumentException\n",
    "from selenium.common.exceptions import StaleElementReferenceException\n",
    "from selenium.webdriver.remote.webelement import WebElement\n",
    "from selenium.webdriver.chrome.options import Options\n",
    "import time\n",
    "from PIL import Image\n",
    "\n",
    "#-------------------------------------------------------------------------------------JUPYTER NOTEBOOK SETTINGS-------------------------------------------------------------------------------------\n",
    "from IPython.core.display import display, HTML                                    \n",
    "display(HTML(\"<style>.container { width:100% !important; }</style>\"))     "
   ]
  },
  {
   "cell_type": "code",
   "execution_count": 2,
   "id": "1430bd63",
   "metadata": {},
   "outputs": [],
   "source": [
    "def get_values_of_element(locator_type, locator):\n",
    "    WebDriverWait(driver, 2).until(EC.presence_of_element_located((locator_type, locator)))\n",
    "    elements = driver.find_elements(locator_type, locator)\n",
    "    \n",
    "    return elements"
   ]
  },
  {
   "cell_type": "code",
   "execution_count": 106,
   "id": "fe65506a",
   "metadata": {},
   "outputs": [
    {
     "name": "stderr",
     "output_type": "stream",
     "text": [
      "The version of chrome cannot be detected. Trying with latest driver version\n"
     ]
    },
    {
     "name": "stdout",
     "output_type": "stream",
     "text": [
      "33\n",
      "['xrp', 'pepe', 'elf-wallet', 'bitcoin', 'ethereum', 'tether', 'bnb', 'xrp', 'usd-coin', 'cardano', 'solana', 'dogecoin', 'polygon', 'tron', 'litecoin', 'polkadot', 'avalanche', 'bitcoin-cash', 'wrapped-bitcoin', 'shiba-inu', 'dai', 'toncoin', 'binance-usd', 'unus-sed-leo', 'chainlink', 'stellar', 'cosmos', 'uniswap', 'monero', 'trueusd', 'ethereum-classic', 'okb', 'lido-dao']\n",
      "Test: 0 xrp\n",
      "Test: 2 xrp\n",
      "Test: 4 xrp\n",
      "Test: 6 xrp\n",
      "Test: 8 xrp\n",
      "Test: 0 pepe\n",
      "Test: 2 pepe\n",
      "Test: 4 pepe\n",
      "Test: 6 pepe\n",
      "Test: 8 pepe\n",
      "Test: 0 elf-wallet\n",
      "Test: 2 elf-wallet\n"
     ]
    },
    {
     "ename": "NoSuchWindowException",
     "evalue": "Message: no such window: target window already closed\nfrom unknown error: web view not found\n  (Session info: chrome=114.0.5735.199)\nStacktrace:\nBacktrace:\n\tGetHandleVerifier [0x002EA813+48355]\n\t(No symbol) [0x0027C4B1]\n\t(No symbol) [0x00185358]\n\t(No symbol) [0x0016D293]\n\t(No symbol) [0x001CE37B]\n\t(No symbol) [0x001DC473]\n\t(No symbol) [0x001CA536]\n\t(No symbol) [0x001A82DC]\n\t(No symbol) [0x001A93DD]\n\tGetHandleVerifier [0x0054AABD+2539405]\n\tGetHandleVerifier [0x0058A78F+2800735]\n\tGetHandleVerifier [0x0058456C+2775612]\n\tGetHandleVerifier [0x003751E0+616112]\n\t(No symbol) [0x00285F8C]\n\t(No symbol) [0x00282328]\n\t(No symbol) [0x0028240B]\n\t(No symbol) [0x00274FF7]\n\tBaseThreadInitThunk [0x75BA7D59+25]\n\tRtlInitializeExceptionChain [0x7758B74B+107]\n\tRtlClearBits [0x7758B6CF+191]\n\t(No symbol) [0x00000000]\n",
     "output_type": "error",
     "traceback": [
      "\u001b[1;31m---------------------------------------------------------------------------\u001b[0m",
      "\u001b[1;31mNoSuchWindowException\u001b[0m                     Traceback (most recent call last)",
      "Cell \u001b[1;32mIn[106], line 56\u001b[0m\n\u001b[0;32m     54\u001b[0m \u001b[38;5;28;01mfor\u001b[39;00m i \u001b[38;5;129;01min\u001b[39;00m \u001b[38;5;28mrange\u001b[39m(\u001b[38;5;28mlen\u001b[39m(timeframe_elms)):\n\u001b[0;32m     55\u001b[0m     \u001b[38;5;28;01mtry\u001b[39;00m: \n\u001b[1;32m---> 56\u001b[0m         element \u001b[38;5;241m=\u001b[39m \u001b[43mWebDriverWait\u001b[49m\u001b[43m(\u001b[49m\u001b[43mdriver\u001b[49m\u001b[43m,\u001b[49m\u001b[43m \u001b[49m\u001b[38;5;241;43m2\u001b[39;49m\u001b[43m)\u001b[49m\u001b[38;5;241;43m.\u001b[39;49m\u001b[43muntil\u001b[49m\u001b[43m(\u001b[49m\n\u001b[0;32m     57\u001b[0m \u001b[43m            \u001b[49m\u001b[43mEC\u001b[49m\u001b[38;5;241;43m.\u001b[39;49m\u001b[43melement_to_be_clickable\u001b[49m\u001b[43m(\u001b[49m\u001b[43m(\u001b[49m\u001b[43mBy\u001b[49m\u001b[38;5;241;43m.\u001b[39;49m\u001b[43mCSS_SELECTOR\u001b[49m\u001b[43m,\u001b[49m\u001b[43m \u001b[49m\u001b[43mtimeframe_elms\u001b[49m\u001b[43m[\u001b[49m\u001b[43mi\u001b[49m\u001b[43m]\u001b[49m\u001b[43m)\u001b[49m\u001b[43m)\u001b[49m\n\u001b[0;32m     58\u001b[0m \u001b[43m        \u001b[49m\u001b[43m)\u001b[49m\n\u001b[0;32m     59\u001b[0m         element\u001b[38;5;241m.\u001b[39mclick()\n\u001b[0;32m     60\u001b[0m         time\u001b[38;5;241m.\u001b[39msleep(\u001b[38;5;241m0.3\u001b[39m)\n",
      "File \u001b[1;32m~\\AppData\\Roaming\\Python\\Python310\\site-packages\\selenium\\webdriver\\support\\wait.py:86\u001b[0m, in \u001b[0;36mWebDriverWait.until\u001b[1;34m(self, method, message)\u001b[0m\n\u001b[0;32m     84\u001b[0m \u001b[38;5;28;01mwhile\u001b[39;00m \u001b[38;5;28;01mTrue\u001b[39;00m:\n\u001b[0;32m     85\u001b[0m     \u001b[38;5;28;01mtry\u001b[39;00m:\n\u001b[1;32m---> 86\u001b[0m         value \u001b[38;5;241m=\u001b[39m \u001b[43mmethod\u001b[49m\u001b[43m(\u001b[49m\u001b[38;5;28;43mself\u001b[39;49m\u001b[38;5;241;43m.\u001b[39;49m\u001b[43m_driver\u001b[49m\u001b[43m)\u001b[49m\n\u001b[0;32m     87\u001b[0m         \u001b[38;5;28;01mif\u001b[39;00m value:\n\u001b[0;32m     88\u001b[0m             \u001b[38;5;28;01mreturn\u001b[39;00m value\n",
      "File \u001b[1;32m~\\AppData\\Roaming\\Python\\Python310\\site-packages\\selenium\\webdriver\\support\\expected_conditions.py:355\u001b[0m, in \u001b[0;36melement_to_be_clickable.<locals>._predicate\u001b[1;34m(driver)\u001b[0m\n\u001b[0;32m    353\u001b[0m target \u001b[38;5;241m=\u001b[39m mark\n\u001b[0;32m    354\u001b[0m \u001b[38;5;28;01mif\u001b[39;00m \u001b[38;5;129;01mnot\u001b[39;00m \u001b[38;5;28misinstance\u001b[39m(target, WebElement):  \u001b[38;5;66;03m# if given locator instead of WebElement\u001b[39;00m\n\u001b[1;32m--> 355\u001b[0m     target \u001b[38;5;241m=\u001b[39m \u001b[43mdriver\u001b[49m\u001b[38;5;241;43m.\u001b[39;49m\u001b[43mfind_element\u001b[49m\u001b[43m(\u001b[49m\u001b[38;5;241;43m*\u001b[39;49m\u001b[43mtarget\u001b[49m\u001b[43m)\u001b[49m  \u001b[38;5;66;03m# grab element at locator\u001b[39;00m\n\u001b[0;32m    356\u001b[0m target \u001b[38;5;241m=\u001b[39m visibility_of(target)(driver)\n\u001b[0;32m    357\u001b[0m \u001b[38;5;28;01mif\u001b[39;00m target \u001b[38;5;129;01mand\u001b[39;00m target\u001b[38;5;241m.\u001b[39mis_enabled():\n",
      "File \u001b[1;32m~\\AppData\\Roaming\\Python\\Python310\\site-packages\\selenium\\webdriver\\remote\\webdriver.py:740\u001b[0m, in \u001b[0;36mWebDriver.find_element\u001b[1;34m(self, by, value)\u001b[0m\n\u001b[0;32m    737\u001b[0m     by \u001b[38;5;241m=\u001b[39m By\u001b[38;5;241m.\u001b[39mCSS_SELECTOR\n\u001b[0;32m    738\u001b[0m     value \u001b[38;5;241m=\u001b[39m \u001b[38;5;124mf\u001b[39m\u001b[38;5;124m'\u001b[39m\u001b[38;5;124m[name=\u001b[39m\u001b[38;5;124m\"\u001b[39m\u001b[38;5;132;01m{\u001b[39;00mvalue\u001b[38;5;132;01m}\u001b[39;00m\u001b[38;5;124m\"\u001b[39m\u001b[38;5;124m]\u001b[39m\u001b[38;5;124m'\u001b[39m\n\u001b[1;32m--> 740\u001b[0m \u001b[38;5;28;01mreturn\u001b[39;00m \u001b[38;5;28;43mself\u001b[39;49m\u001b[38;5;241;43m.\u001b[39;49m\u001b[43mexecute\u001b[49m\u001b[43m(\u001b[49m\u001b[43mCommand\u001b[49m\u001b[38;5;241;43m.\u001b[39;49m\u001b[43mFIND_ELEMENT\u001b[49m\u001b[43m,\u001b[49m\u001b[43m \u001b[49m\u001b[43m{\u001b[49m\u001b[38;5;124;43m\"\u001b[39;49m\u001b[38;5;124;43musing\u001b[39;49m\u001b[38;5;124;43m\"\u001b[39;49m\u001b[43m:\u001b[49m\u001b[43m \u001b[49m\u001b[43mby\u001b[49m\u001b[43m,\u001b[49m\u001b[43m \u001b[49m\u001b[38;5;124;43m\"\u001b[39;49m\u001b[38;5;124;43mvalue\u001b[39;49m\u001b[38;5;124;43m\"\u001b[39;49m\u001b[43m:\u001b[49m\u001b[43m \u001b[49m\u001b[43mvalue\u001b[49m\u001b[43m}\u001b[49m\u001b[43m)\u001b[49m[\u001b[38;5;124m\"\u001b[39m\u001b[38;5;124mvalue\u001b[39m\u001b[38;5;124m\"\u001b[39m]\n",
      "File \u001b[1;32m~\\AppData\\Roaming\\Python\\Python310\\site-packages\\selenium\\webdriver\\remote\\webdriver.py:346\u001b[0m, in \u001b[0;36mWebDriver.execute\u001b[1;34m(self, driver_command, params)\u001b[0m\n\u001b[0;32m    344\u001b[0m response \u001b[38;5;241m=\u001b[39m \u001b[38;5;28mself\u001b[39m\u001b[38;5;241m.\u001b[39mcommand_executor\u001b[38;5;241m.\u001b[39mexecute(driver_command, params)\n\u001b[0;32m    345\u001b[0m \u001b[38;5;28;01mif\u001b[39;00m response:\n\u001b[1;32m--> 346\u001b[0m     \u001b[38;5;28;43mself\u001b[39;49m\u001b[38;5;241;43m.\u001b[39;49m\u001b[43merror_handler\u001b[49m\u001b[38;5;241;43m.\u001b[39;49m\u001b[43mcheck_response\u001b[49m\u001b[43m(\u001b[49m\u001b[43mresponse\u001b[49m\u001b[43m)\u001b[49m\n\u001b[0;32m    347\u001b[0m     response[\u001b[38;5;124m\"\u001b[39m\u001b[38;5;124mvalue\u001b[39m\u001b[38;5;124m\"\u001b[39m] \u001b[38;5;241m=\u001b[39m \u001b[38;5;28mself\u001b[39m\u001b[38;5;241m.\u001b[39m_unwrap_value(response\u001b[38;5;241m.\u001b[39mget(\u001b[38;5;124m\"\u001b[39m\u001b[38;5;124mvalue\u001b[39m\u001b[38;5;124m\"\u001b[39m, \u001b[38;5;28;01mNone\u001b[39;00m))\n\u001b[0;32m    348\u001b[0m     \u001b[38;5;28;01mreturn\u001b[39;00m response\n",
      "File \u001b[1;32m~\\AppData\\Roaming\\Python\\Python310\\site-packages\\selenium\\webdriver\\remote\\errorhandler.py:245\u001b[0m, in \u001b[0;36mErrorHandler.check_response\u001b[1;34m(self, response)\u001b[0m\n\u001b[0;32m    243\u001b[0m         alert_text \u001b[38;5;241m=\u001b[39m value[\u001b[38;5;124m\"\u001b[39m\u001b[38;5;124malert\u001b[39m\u001b[38;5;124m\"\u001b[39m]\u001b[38;5;241m.\u001b[39mget(\u001b[38;5;124m\"\u001b[39m\u001b[38;5;124mtext\u001b[39m\u001b[38;5;124m\"\u001b[39m)\n\u001b[0;32m    244\u001b[0m     \u001b[38;5;28;01mraise\u001b[39;00m exception_class(message, screen, stacktrace, alert_text)  \u001b[38;5;66;03m# type: ignore[call-arg]  # mypy is not smart enough here\u001b[39;00m\n\u001b[1;32m--> 245\u001b[0m \u001b[38;5;28;01mraise\u001b[39;00m exception_class(message, screen, stacktrace)\n",
      "\u001b[1;31mNoSuchWindowException\u001b[0m: Message: no such window: target window already closed\nfrom unknown error: web view not found\n  (Session info: chrome=114.0.5735.199)\nStacktrace:\nBacktrace:\n\tGetHandleVerifier [0x002EA813+48355]\n\t(No symbol) [0x0027C4B1]\n\t(No symbol) [0x00185358]\n\t(No symbol) [0x0016D293]\n\t(No symbol) [0x001CE37B]\n\t(No symbol) [0x001DC473]\n\t(No symbol) [0x001CA536]\n\t(No symbol) [0x001A82DC]\n\t(No symbol) [0x001A93DD]\n\tGetHandleVerifier [0x0054AABD+2539405]\n\tGetHandleVerifier [0x0058A78F+2800735]\n\tGetHandleVerifier [0x0058456C+2775612]\n\tGetHandleVerifier [0x003751E0+616112]\n\t(No symbol) [0x00285F8C]\n\t(No symbol) [0x00282328]\n\t(No symbol) [0x0028240B]\n\t(No symbol) [0x00274FF7]\n\tBaseThreadInitThunk [0x75BA7D59+25]\n\tRtlInitializeExceptionChain [0x7758B74B+107]\n\tRtlClearBits [0x7758B6CF+191]\n\t(No symbol) [0x00000000]\n"
     ]
    }
   ],
   "source": [
    "driver = webdriver.Chrome()\n",
    "#Set Chrome options\n",
    "chrome_options = Options()\n",
    "chrome_options.add_argument(\"--force-device-scale-factor=2\")  # Increase pixel density\n",
    "chrome_options.add_argument(\"--disable-infobars\")  # Disable info bar\n",
    "chrome_options.add_argument(\"--hide-scrollbars\")  # Hide scrollbars\n",
    "\n",
    "webpage = \"https://coinmarketcap.com/\"\n",
    "driver.implicitly_wait(2) # seconds\n",
    "driver.get(webpage) \n",
    "\n",
    "#driver.execute_script(\"window.scrollTo(0, document.body.scrollHeight);\")\n",
    "\n",
    "page_selector_elm_xpath = '//*[@id=\"__next\"]/div[2]/div[1]/div[2]/div/div[1]/div[6]/div[1]/div/ul'\n",
    "currency_name_elm_xpath = 'p.sc-4984dd93-0.kKpPOn'\n",
    "\n",
    "currencies_names = list()\n",
    "pages = get_values_of_element(By.XPATH, page_selector_elm_xpath)\n",
    "\n",
    "# weird implementation but it did not work any other way\n",
    "pages_displayed = pages[0].text\n",
    "last_page = int(pages_displayed[-3] + pages_displayed[-2] + pages_displayed[-1])\n",
    "#print(last_page)\n",
    "\n",
    "for i in range(1, 2):\n",
    "    # go through all the page numbers\n",
    "    driver.get(webpage + \"?page=\" + str(i)) \n",
    "    # find all elements with the class name requested\n",
    "    currencies_available = get_values_of_element(By.CSS_SELECTOR, currency_name_elm_xpath)\n",
    "    \n",
    "    # check if any elements were found\n",
    "    if not currencies_available:\n",
    "        print(\"No elements found with class name \" + currency_name_element)\n",
    "    else:\n",
    "        for element in currencies_available:\n",
    "            currencies_names.append(element.text.lower().replace(\" \", \"-\"))\n",
    "\n",
    "print(len(currencies_names))\n",
    "print(currencies_names)\n",
    "\n",
    "for k in range(len(currencies_names)):\n",
    "    try:\n",
    "        driver.get(webpage + \"currencies/\" + currencies_names[k])\n",
    "    except InvalidArgumentException:\n",
    "        continue\n",
    "    \n",
    "    timeframe_elms = (\"li#react-tabs-0.react-tabs__tab\",\n",
    "                      \"li#react-tabs-2.react-tabs__tab\",               \n",
    "                      \"li#react-tabs-4.react-tabs__tab\",\n",
    "                      \"li#react-tabs-6.react-tabs__tab\",\n",
    "                      \"li#react-tabs-8.react-tabs__tab\"\n",
    "                     )\n",
    "    \n",
    "    for i in range(len(timeframe_elms)):\n",
    "        try: \n",
    "            element = WebDriverWait(driver, 2).until(\n",
    "                EC.element_to_be_clickable((By.CSS_SELECTOR, timeframe_elms[i]))\n",
    "            )\n",
    "            element.click()\n",
    "            time.sleep(0.3)\n",
    "        except TimeoutException:\n",
    "            break\n",
    "\n",
    "        # take screenshot of the page\n",
    "        filepath = \"sample_plots/\" + webpage.split(\"/\")[2] + \"/\"\n",
    "        screenshot_name = timeframe_elms[i][14:].split(\".\")[0] + \"_\" + currencies_names[k] + \".png\"\n",
    "        driver.save_screenshot(filepath + screenshot_name)\n",
    "\n",
    "        # get the dimensions of the graph element\n",
    "        graph = WebDriverWait(driver, 2).until(\n",
    "            EC.element_to_be_clickable((By.CSS_SELECTOR, \"div.chart-wrapper.v3\"))\n",
    "        )\n",
    "        graph_location = graph.location\n",
    "        graph_size = graph.size\n",
    "\n",
    "        # open the screenshot and crop it to the dimensions of the element\n",
    "        image = Image.open(filepath + screenshot_name)\n",
    "\n",
    "        graph_left   =  graph_location['x'] - 475\n",
    "        graph_top    =  graph_location['y'] - 110\n",
    "        graph_right  =  graph_location['x'] + graph.size['width']\n",
    "        graph_bottom =  graph_location['y'] + graph.size['height'] - 10\n",
    "\n",
    "        image = image.crop((graph_left, graph_top, graph_right, graph_bottom))\n",
    "        image.save(filepath + screenshot_name)\n",
    "\n",
    "        print(\"Test:\", timeframe_elms[i][14:].split(\".\")[0], currencies_names[k])\n",
    "        time.sleep(0.1)\n",
    "\n",
    "driver.quit()\n"
   ]
  }
 ],
 "metadata": {
  "kernelspec": {
   "display_name": "Python 3 (ipykernel)",
   "language": "python",
   "name": "python3"
  },
  "language_info": {
   "codemirror_mode": {
    "name": "ipython",
    "version": 3
   },
   "file_extension": ".py",
   "mimetype": "text/x-python",
   "name": "python",
   "nbconvert_exporter": "python",
   "pygments_lexer": "ipython3",
   "version": "3.10.9"
  }
 },
 "nbformat": 4,
 "nbformat_minor": 5
}
